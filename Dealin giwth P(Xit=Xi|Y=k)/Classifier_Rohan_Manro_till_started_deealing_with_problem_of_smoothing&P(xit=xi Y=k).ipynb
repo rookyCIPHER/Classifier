{
  "nbformat": 4,
  "nbformat_minor": 0,
  "metadata": {
    "colab": {
      "provenance": [],
      "toc_visible": true
    },
    "kernelspec": {
      "name": "python3",
      "display_name": "Python 3"
    },
    "language_info": {
      "name": "python"
    }
  },
  "cells": [
    {
      "cell_type": "markdown",
      "source": [
        "First of all giving permission to google colab so that it can access the files "
      ],
      "metadata": {
        "id": "YCSVzDkCXaC3"
      }
    },
    {
      "cell_type": "code",
      "source": [
        "from google.colab import drive\n",
        "drive.mount('/content/drive')\n",
        "%cd /content/drive/MyDrive"
      ],
      "metadata": {
        "id": "QAF3e66QyJhR",
        "colab": {
          "base_uri": "https://localhost:8080/"
        },
        "outputId": "496482a0-18dd-40e8-ce58-43c24ca8f268"
      },
      "execution_count": 2,
      "outputs": [
        {
          "output_type": "stream",
          "name": "stdout",
          "text": [
            "Drive already mounted at /content/drive; to attempt to forcibly remount, call drive.mount(\"/content/drive\", force_remount=True).\n",
            "/content/drive/MyDrive\n"
          ]
        }
      ]
    },
    {
      "cell_type": "code",
      "source": [
        "import csv"
      ],
      "metadata": {
        "id": "Xd5eKVLcFoiL"
      },
      "execution_count": 1,
      "outputs": []
    },
    {
      "cell_type": "markdown",
      "source": [
        "Reading the data\n"
      ],
      "metadata": {
        "id": "KCIIPOEwQhYU"
      }
    },
    {
      "cell_type": "code",
      "source": [
        "#Dividing the data in test and training data but first getting total number of rows, then only adding 90% of it to training data.\n",
        "data=[]\n",
        "number_of_rows=0\n",
        "with open('A_Z Handwritten Data.csv', newline='') as csvfile:\n",
        "    reader = csv.reader(csvfile)\n",
        "    for row in reader:\n",
        "      number_of_rows+=1\n",
        "      data.append(list(row))"
      ],
      "metadata": {
        "id": "0hlu1l2NFFWs"
      },
      "execution_count": 3,
      "outputs": []
    },
    {
      "cell_type": "markdown",
      "source": [
        "Segregating the data"
      ],
      "metadata": {
        "id": "WbOUs3sXck_5"
      }
    },
    {
      "cell_type": "code",
      "source": [
        "# segregating the read data\n",
        "# train_data=[]\n",
        "# test_data=[]\n",
        "# counter=0\n",
        "# for i in data:\n",
        "#   counter+=1\n",
        "#   if counter<=(0.9*number_of_rows):\n",
        "#     train_data.append(i)\n",
        "#   else: \n",
        "#     test_data.append(i)\n",
        "\n",
        "#THIS IS COMMENTED OUT FOR THE REASON EXPLAINED IN BELOW COMMENTS"
      ],
      "metadata": {
        "id": "w2eY7fMqSMLh"
      },
      "execution_count": 4,
      "outputs": []
    },
    {
      "cell_type": "code",
      "source": [
        "# #Now the next step is to calculate p(y=k) where k belongs to [0,25]\n",
        "# dict1={}\n",
        "# counter_list=[]  \n",
        "# #will store the first column of each row and then we will use counter to count number of times a particular one appears and then divide by total number to get probability by favourable/total\n",
        "\n",
        "# for i in train_data:\n",
        "#   counter_list.append(i[0])\n",
        "\n",
        "# #Now our next step is to assign the number and the probability of each as key value pair in dictionary, we are using dictionary because it uses hash mapping ang take less time to fetch data\n",
        "# counter_set=set(counter_list)   #just to remove the duplicates and see all the labels that have been covered in the training data\n",
        "# print(counter_set)\n",
        "# #OUTPUT=['0', '1', '10', '11', '12', '13', '14', '15', '16', '17', '18', '19', '2', '20', '21', '3', '4', '5', '6', '7', '8', '9']\n",
        "# #so we can see if we use training data then not all the labels between 0 to 25 are covered. So for calculating P(Y=k) we need to first shuffle the data and then segregate it and that's why above part was commented out"
      ],
      "metadata": {
        "id": "SnvsfEJDRO-2"
      },
      "execution_count": 5,
      "outputs": []
    },
    {
      "cell_type": "code",
      "source": [
        "import random\n",
        "random.shuffle(data)"
      ],
      "metadata": {
        "id": "xlJjCa66be7K"
      },
      "execution_count": 4,
      "outputs": []
    },
    {
      "cell_type": "code",
      "source": [
        "#segregating the read data\n",
        "train_data=[]\n",
        "test_data=[]\n",
        "counter=0\n",
        "for i in data:\n",
        "  counter+=1\n",
        "  if counter<=(0.9*number_of_rows):\n",
        "    train_data.append(i)\n",
        "  else: \n",
        "    test_data.append(i)"
      ],
      "metadata": {
        "id": "S7y8gwYrbkcq"
      },
      "execution_count": 5,
      "outputs": []
    },
    {
      "cell_type": "markdown",
      "source": [
        "Calculation P(Y=k)"
      ],
      "metadata": {
        "id": "R1_ZF7TOcopL"
      }
    },
    {
      "cell_type": "code",
      "source": [
        "#Now the next step is to calculate p(y=k) where k belongs to [0,25]\n",
        "dict1={}\n",
        "counter_list=[]  \n",
        "#will store the first column of each row and then we will use counter to count number of times a particular one appears and then divide by total number to get probability by favourable/total\n",
        "\n",
        "for i in train_data:\n",
        "  counter_list.append(i[0])\n",
        "\n",
        "#Now our next step is to assign the number and the probability of each as key value pair in dictionary, we are using dictionary because it uses hash mapping ang take less time to fetch data\n",
        "counter_set=set(counter_list)   #just to remove the duplicates and see all the labels that have been covered in the training data. These will help in adding keys to the dictionary"
      ],
      "metadata": {
        "id": "C7pxjodkbsou"
      },
      "execution_count": 6,
      "outputs": []
    },
    {
      "cell_type": "code",
      "source": [
        "#Calculating P(y=k) and adding to dictionary\n",
        "for i in counter_set:\n",
        "  probability=counter_list.count(i)/len(counter_list)\n",
        "  dict1[i]=round(probability,6)"
      ],
      "metadata": {
        "id": "iLtfSPcKcRtf"
      },
      "execution_count": 7,
      "outputs": []
    },
    {
      "cell_type": "code",
      "source": [
        "print(dict1)"
      ],
      "metadata": {
        "colab": {
          "base_uri": "https://localhost:8080/"
        },
        "id": "3xLWO2UQdEIX",
        "outputId": "107c74cd-2898-416c-ef68-d8ad51e9ad2d"
      },
      "execution_count": 8,
      "outputs": [
        {
          "output_type": "stream",
          "name": "stdout",
          "text": [
            "{'5': 0.003171, '14': 0.15495, '13': 0.05116, '9': 0.022759, '4': 0.030719, '15': 0.051706, '19': 0.060542, '22': 0.029006, '18': 0.130105, '25': 0.016402, '12': 0.033037, '2': 0.063003, '6': 0.015516, '24': 0.029096, '10': 0.015125, '8': 0.002971, '21': 0.011205, '7': 0.019293, '3': 0.02727, '0': 0.037317, '20': 0.077908, '1': 0.023207, '23': 0.016745, '17': 0.031032, '16': 0.015576, '11': 0.031181}\n"
          ]
        }
      ]
    },
    {
      "cell_type": "markdown",
      "source": [
        "Addressing the problems of creation of bins, initially taking it be bin size of 8. "
      ],
      "metadata": {
        "id": "DJXXSMulSzEI"
      }
    },
    {
      "cell_type": "code",
      "source": [
        "bin_dict={}  #again using dictionary for associating "
      ],
      "metadata": {
        "id": "CKvIrywaTK7x"
      },
      "execution_count": 9,
      "outputs": []
    },
    {
      "cell_type": "code",
      "source": [
        "key=0\n",
        "for i in range(0,256):\n",
        "  if 32*key<=i and i<32*(key+1):\n",
        "    bin_dict[i]=key\n",
        "  else:\n",
        "    bin_dict[i]=key+1 #because otherwise numbers such as 32,64 where if statements are not satisfied would never be added to dictionary.\n",
        "    key+=1\n",
        "#so we are creating a bin size of 8 i.e. all the pixels which were taking values between 0 to 255 will now be scaled down to take values between 0 to 7\n",
        "#so that means the scaling will take 32 numbers at a time to divide 256 over 8 parts, so numbers in range 0 to 31 will come to 0 then between 32 to 63 to 1 and so on... "
      ],
      "metadata": {
        "id": "p7aOXGPJTRpQ"
      },
      "execution_count": 10,
      "outputs": []
    },
    {
      "cell_type": "code",
      "source": [
        "print(bin_dict)"
      ],
      "metadata": {
        "colab": {
          "base_uri": "https://localhost:8080/"
        },
        "id": "J7Wr5yv9UfTO",
        "outputId": "df9e5bd7-25b5-4ca5-8e59-27a15eb19fd1"
      },
      "execution_count": 11,
      "outputs": [
        {
          "output_type": "stream",
          "name": "stdout",
          "text": [
            "{0: 0, 1: 0, 2: 0, 3: 0, 4: 0, 5: 0, 6: 0, 7: 0, 8: 0, 9: 0, 10: 0, 11: 0, 12: 0, 13: 0, 14: 0, 15: 0, 16: 0, 17: 0, 18: 0, 19: 0, 20: 0, 21: 0, 22: 0, 23: 0, 24: 0, 25: 0, 26: 0, 27: 0, 28: 0, 29: 0, 30: 0, 31: 0, 32: 1, 33: 1, 34: 1, 35: 1, 36: 1, 37: 1, 38: 1, 39: 1, 40: 1, 41: 1, 42: 1, 43: 1, 44: 1, 45: 1, 46: 1, 47: 1, 48: 1, 49: 1, 50: 1, 51: 1, 52: 1, 53: 1, 54: 1, 55: 1, 56: 1, 57: 1, 58: 1, 59: 1, 60: 1, 61: 1, 62: 1, 63: 1, 64: 2, 65: 2, 66: 2, 67: 2, 68: 2, 69: 2, 70: 2, 71: 2, 72: 2, 73: 2, 74: 2, 75: 2, 76: 2, 77: 2, 78: 2, 79: 2, 80: 2, 81: 2, 82: 2, 83: 2, 84: 2, 85: 2, 86: 2, 87: 2, 88: 2, 89: 2, 90: 2, 91: 2, 92: 2, 93: 2, 94: 2, 95: 2, 96: 3, 97: 3, 98: 3, 99: 3, 100: 3, 101: 3, 102: 3, 103: 3, 104: 3, 105: 3, 106: 3, 107: 3, 108: 3, 109: 3, 110: 3, 111: 3, 112: 3, 113: 3, 114: 3, 115: 3, 116: 3, 117: 3, 118: 3, 119: 3, 120: 3, 121: 3, 122: 3, 123: 3, 124: 3, 125: 3, 126: 3, 127: 3, 128: 4, 129: 4, 130: 4, 131: 4, 132: 4, 133: 4, 134: 4, 135: 4, 136: 4, 137: 4, 138: 4, 139: 4, 140: 4, 141: 4, 142: 4, 143: 4, 144: 4, 145: 4, 146: 4, 147: 4, 148: 4, 149: 4, 150: 4, 151: 4, 152: 4, 153: 4, 154: 4, 155: 4, 156: 4, 157: 4, 158: 4, 159: 4, 160: 5, 161: 5, 162: 5, 163: 5, 164: 5, 165: 5, 166: 5, 167: 5, 168: 5, 169: 5, 170: 5, 171: 5, 172: 5, 173: 5, 174: 5, 175: 5, 176: 5, 177: 5, 178: 5, 179: 5, 180: 5, 181: 5, 182: 5, 183: 5, 184: 5, 185: 5, 186: 5, 187: 5, 188: 5, 189: 5, 190: 5, 191: 5, 192: 6, 193: 6, 194: 6, 195: 6, 196: 6, 197: 6, 198: 6, 199: 6, 200: 6, 201: 6, 202: 6, 203: 6, 204: 6, 205: 6, 206: 6, 207: 6, 208: 6, 209: 6, 210: 6, 211: 6, 212: 6, 213: 6, 214: 6, 215: 6, 216: 6, 217: 6, 218: 6, 219: 6, 220: 6, 221: 6, 222: 6, 223: 6, 224: 7, 225: 7, 226: 7, 227: 7, 228: 7, 229: 7, 230: 7, 231: 7, 232: 7, 233: 7, 234: 7, 235: 7, 236: 7, 237: 7, 238: 7, 239: 7, 240: 7, 241: 7, 242: 7, 243: 7, 244: 7, 245: 7, 246: 7, 247: 7, 248: 7, 249: 7, 250: 7, 251: 7, 252: 7, 253: 7, 254: 7, 255: 7}\n"
          ]
        }
      ]
    },
    {
      "cell_type": "markdown",
      "source": [
        "Now once we have done this we need to change all the data in our training set according to our bin size."
      ],
      "metadata": {
        "id": "4YzqbptGXCsX"
      }
    },
    {
      "cell_type": "code",
      "source": [
        "#so in the train_data list each element is a list which has 785 entries where the first entry is the label and remaining 784 as pixels and we can verify that\n",
        "print(len(train_data[1]))"
      ],
      "metadata": {
        "colab": {
          "base_uri": "https://localhost:8080/"
        },
        "id": "UR_imyXZXMVm",
        "outputId": "ecc2573d-f0c9-4ebf-908b-4443657db84f"
      },
      "execution_count": 12,
      "outputs": [
        {
          "output_type": "stream",
          "name": "stdout",
          "text": [
            "785\n"
          ]
        }
      ]
    },
    {
      "cell_type": "code",
      "source": [
        "#so to convert all 784 pixels according to our bin size, we will take all data by iterating through them and replace them with their corresponding value in the bin dictionary\n",
        "\n",
        "for i in train_data:\n",
        "  for j in range(1,785): #starting from index 1 as index 0 is label and we only need to change the pixel data\n",
        "    i[j]=bin_dict[int(i[j])]\n"
      ],
      "metadata": {
        "id": "uRYA77Y2YDjS"
      },
      "execution_count": 13,
      "outputs": []
    },
    {
      "cell_type": "markdown",
      "source": [
        "Now we need to find P(Xi=Xit|Y=k) for all data points i.e. for all 784 pixels over all the data."
      ],
      "metadata": {
        "id": "H6QL4BEDVTuw"
      }
    },
    {
      "cell_type": "code",
      "source": [
        "Xi_dict={}  \n",
        "#this dictionary would store the above values and the keys would be a tuple containing the values of Xi and k, so in this dictionary probability would be associated as key=(Xit,k) and value=P(Xi=Xit|Y=k)"
      ],
      "metadata": {
        "id": "npUKvbeOWDuQ"
      },
      "execution_count": 14,
      "outputs": []
    },
    {
      "cell_type": "code",
      "source": [
        "train_data_dict={}\n",
        "for i in range(0,26):\n",
        "  list2=[]\n",
        "  for j in train_data:\n",
        "    if int(j[0])==i:\n",
        "      list1=[]\n",
        "      for k in range(1,785):\n",
        "        list1.append(j[k])\n",
        "      list2.append(list1)\n",
        "    else:\n",
        "      continue\n",
        "  train_data_dict[i]=list2"
      ],
      "metadata": {
        "id": "HAmauF38ktiX"
      },
      "execution_count": 15,
      "outputs": []
    },
    {
      "cell_type": "code",
      "source": [
        "print(len(train_data_dict[0][0]))"
      ],
      "metadata": {
        "colab": {
          "base_uri": "https://localhost:8080/"
        },
        "id": "iO3rP1N489CP",
        "outputId": "6c53f34d-3939-4c4c-f307-871f5993d2e8"
      },
      "execution_count": 22,
      "outputs": [
        {
          "output_type": "stream",
          "name": "stdout",
          "text": [
            "784\n"
          ]
        }
      ]
    },
    {
      "cell_type": "code",
      "source": [
        "\n",
        "#we also need to create a special counter function\n",
        "def counter(i,xi,k):    #i=>Which pixel I am talking about, Xi=>what is the value of the pixel, and for which Y=k\n",
        "  count=0\n",
        "  for j in train_data_dict[k]:\n",
        "    if int(j[i])==xi:\n",
        "      count+=1\n",
        "    else:\n",
        "      continue\n",
        "\n",
        "  return count\n"
      ],
      "metadata": {
        "id": "fyaOOenkYSsm"
      },
      "execution_count": 51,
      "outputs": []
    },
    {
      "cell_type": "code",
      "source": [
        "print(counter(0,0,0))"
      ],
      "metadata": {
        "colab": {
          "base_uri": "https://localhost:8080/"
        },
        "id": "gsAZdXytSbfk",
        "outputId": "ea4f3b4f-02f4-4601-a5dc-ec1fe333ece1"
      },
      "execution_count": 52,
      "outputs": [
        {
          "output_type": "stream",
          "name": "stdout",
          "text": [
            "12509\n"
          ]
        }
      ]
    },
    {
      "cell_type": "code",
      "source": [
        "#And also a probability function to calculate to calculate P(xi=Xit|Y=k)\n",
        "\n",
        "def probability(i,xi,k):     #i=>Which pixel I am talking about, Xi=>what is the value of the pixel, and for which Y=k\n",
        "\n",
        "  if xi>7 or xi<0: \n",
        "      print(\"Enter a valid pixel value\")\n",
        "      return \n",
        "  if k>25 or k<0:\n",
        "      print(\"Enter a valid label\")\n",
        "      return\n",
        "    \n",
        "  else:   #Calculating using the formula P(Xit=Xi|Y=k)=P(Xit=Xi and Y=k)/P(Y=k)\n",
        "    prob=float(counter(i,xi,k))/len(train_data)   #calculating P(Y=k and Xit=Xi)\n",
        "    prob1=float(prob)/dict1[str(k)]\n",
        "    return prob1"
      ],
      "metadata": {
        "id": "yZMeEINYPd8_"
      },
      "execution_count": 45,
      "outputs": []
    },
    {
      "cell_type": "code",
      "source": [
        "print(probability(582,2,1))"
      ],
      "metadata": {
        "colab": {
          "base_uri": "https://localhost:8080/"
        },
        "id": "zv7MIZfS9_Bi",
        "outputId": "d1f2e4ee-4e7f-4af3-88ff-39b9913dc17d"
      },
      "execution_count": 40,
      "outputs": [
        {
          "output_type": "stream",
          "name": "stdout",
          "text": [
            "0.02403876302729262\n"
          ]
        }
      ]
    },
    {
      "cell_type": "code",
      "source": [
        "for k in range(0,26):\n",
        "  for j in train_data_dict[k]:\n",
        "    for i in range(0,784):\n",
        "      Xi_dict[(j[i],k)]=probability(i,j[i],k)"
      ],
      "metadata": {
        "id": "merfyzE4W1mu",
        "colab": {
          "base_uri": "https://localhost:8080/",
          "height": 346
        },
        "outputId": "a6cabac3-71bc-4a19-c494-2f198f35ff9c"
      },
      "execution_count": 54,
      "outputs": [
        {
          "output_type": "error",
          "ename": "KeyboardInterrupt",
          "evalue": "ignored",
          "traceback": [
            "\u001b[0;31m---------------------------------------------------------------------------\u001b[0m",
            "\u001b[0;31mKeyboardInterrupt\u001b[0m                         Traceback (most recent call last)",
            "\u001b[0;32m<ipython-input-54-c8c0a35ac11d>\u001b[0m in \u001b[0;36m<module>\u001b[0;34m\u001b[0m\n\u001b[1;32m      2\u001b[0m   \u001b[0;32mfor\u001b[0m \u001b[0mj\u001b[0m \u001b[0;32min\u001b[0m \u001b[0mtrain_data_dict\u001b[0m\u001b[0;34m[\u001b[0m\u001b[0mk\u001b[0m\u001b[0;34m]\u001b[0m\u001b[0;34m:\u001b[0m\u001b[0;34m\u001b[0m\u001b[0;34m\u001b[0m\u001b[0m\n\u001b[1;32m      3\u001b[0m     \u001b[0;32mfor\u001b[0m \u001b[0mi\u001b[0m \u001b[0;32min\u001b[0m \u001b[0mrange\u001b[0m\u001b[0;34m(\u001b[0m\u001b[0;36m0\u001b[0m\u001b[0;34m,\u001b[0m\u001b[0;36m784\u001b[0m\u001b[0;34m)\u001b[0m\u001b[0;34m:\u001b[0m\u001b[0;34m\u001b[0m\u001b[0;34m\u001b[0m\u001b[0m\n\u001b[0;32m----> 4\u001b[0;31m       \u001b[0mXi_dict\u001b[0m\u001b[0;34m[\u001b[0m\u001b[0;34m(\u001b[0m\u001b[0mj\u001b[0m\u001b[0;34m[\u001b[0m\u001b[0mi\u001b[0m\u001b[0;34m]\u001b[0m\u001b[0;34m,\u001b[0m\u001b[0mk\u001b[0m\u001b[0;34m)\u001b[0m\u001b[0;34m]\u001b[0m\u001b[0;34m=\u001b[0m\u001b[0mprobability\u001b[0m\u001b[0;34m(\u001b[0m\u001b[0mi\u001b[0m\u001b[0;34m,\u001b[0m\u001b[0mj\u001b[0m\u001b[0;34m[\u001b[0m\u001b[0mi\u001b[0m\u001b[0;34m]\u001b[0m\u001b[0;34m,\u001b[0m\u001b[0mk\u001b[0m\u001b[0;34m)\u001b[0m\u001b[0;34m\u001b[0m\u001b[0;34m\u001b[0m\u001b[0m\n\u001b[0m",
            "\u001b[0;32m<ipython-input-45-e5a7ad90f962>\u001b[0m in \u001b[0;36mprobability\u001b[0;34m(i, xi, k)\u001b[0m\n\u001b[1;32m     11\u001b[0m \u001b[0;34m\u001b[0m\u001b[0m\n\u001b[1;32m     12\u001b[0m   \u001b[0;32melse\u001b[0m\u001b[0;34m:\u001b[0m   \u001b[0;31m#Calculating using the formula P(Xit=Xi|Y=k)=P(Xit=Xi and Y=k)/P(Y=k)\u001b[0m\u001b[0;34m\u001b[0m\u001b[0;34m\u001b[0m\u001b[0m\n\u001b[0;32m---> 13\u001b[0;31m     \u001b[0mprob\u001b[0m\u001b[0;34m=\u001b[0m\u001b[0mfloat\u001b[0m\u001b[0;34m(\u001b[0m\u001b[0mcounter\u001b[0m\u001b[0;34m(\u001b[0m\u001b[0mi\u001b[0m\u001b[0;34m,\u001b[0m\u001b[0mxi\u001b[0m\u001b[0;34m,\u001b[0m\u001b[0mk\u001b[0m\u001b[0;34m)\u001b[0m\u001b[0;34m)\u001b[0m\u001b[0;34m/\u001b[0m\u001b[0mlen\u001b[0m\u001b[0;34m(\u001b[0m\u001b[0mtrain_data\u001b[0m\u001b[0;34m)\u001b[0m   \u001b[0;31m#calculating P(Y=k and Xit=Xi)\u001b[0m\u001b[0;34m\u001b[0m\u001b[0;34m\u001b[0m\u001b[0m\n\u001b[0m\u001b[1;32m     14\u001b[0m     \u001b[0mprob1\u001b[0m\u001b[0;34m=\u001b[0m\u001b[0mfloat\u001b[0m\u001b[0;34m(\u001b[0m\u001b[0mprob\u001b[0m\u001b[0;34m)\u001b[0m\u001b[0;34m/\u001b[0m\u001b[0mdict1\u001b[0m\u001b[0;34m[\u001b[0m\u001b[0mstr\u001b[0m\u001b[0;34m(\u001b[0m\u001b[0mk\u001b[0m\u001b[0;34m)\u001b[0m\u001b[0;34m]\u001b[0m\u001b[0;34m\u001b[0m\u001b[0;34m\u001b[0m\u001b[0m\n\u001b[1;32m     15\u001b[0m     \u001b[0;32mreturn\u001b[0m \u001b[0mprob1\u001b[0m\u001b[0;34m\u001b[0m\u001b[0;34m\u001b[0m\u001b[0m\n",
            "\u001b[0;32m<ipython-input-51-0f9ee336449c>\u001b[0m in \u001b[0;36mcounter\u001b[0;34m(i, xi, k)\u001b[0m\n\u001b[1;32m      3\u001b[0m   \u001b[0mcount\u001b[0m\u001b[0;34m=\u001b[0m\u001b[0;36m0\u001b[0m\u001b[0;34m\u001b[0m\u001b[0;34m\u001b[0m\u001b[0m\n\u001b[1;32m      4\u001b[0m   \u001b[0;32mfor\u001b[0m \u001b[0mj\u001b[0m \u001b[0;32min\u001b[0m \u001b[0mtrain_data_dict\u001b[0m\u001b[0;34m[\u001b[0m\u001b[0mk\u001b[0m\u001b[0;34m]\u001b[0m\u001b[0;34m:\u001b[0m\u001b[0;34m\u001b[0m\u001b[0;34m\u001b[0m\u001b[0m\n\u001b[0;32m----> 5\u001b[0;31m     \u001b[0;32mif\u001b[0m \u001b[0mint\u001b[0m\u001b[0;34m(\u001b[0m\u001b[0mj\u001b[0m\u001b[0;34m[\u001b[0m\u001b[0mi\u001b[0m\u001b[0;34m]\u001b[0m\u001b[0;34m)\u001b[0m\u001b[0;34m==\u001b[0m\u001b[0mxi\u001b[0m\u001b[0;34m:\u001b[0m\u001b[0;34m\u001b[0m\u001b[0;34m\u001b[0m\u001b[0m\n\u001b[0m\u001b[1;32m      6\u001b[0m       \u001b[0mcount\u001b[0m\u001b[0;34m+=\u001b[0m\u001b[0;36m1\u001b[0m\u001b[0;34m\u001b[0m\u001b[0;34m\u001b[0m\u001b[0m\n\u001b[1;32m      7\u001b[0m     \u001b[0;32melse\u001b[0m\u001b[0;34m:\u001b[0m\u001b[0;34m\u001b[0m\u001b[0;34m\u001b[0m\u001b[0m\n",
            "\u001b[0;31mKeyboardInterrupt\u001b[0m: "
          ]
        }
      ]
    }
  ]
}