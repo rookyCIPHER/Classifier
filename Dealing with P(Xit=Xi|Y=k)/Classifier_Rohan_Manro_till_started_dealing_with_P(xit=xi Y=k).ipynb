{
  "nbformat": 4,
  "nbformat_minor": 0,
  "metadata": {
    "colab": {
      "provenance": [],
      "toc_visible": true
    },
    "kernelspec": {
      "name": "python3",
      "display_name": "Python 3"
    },
    "language_info": {
      "name": "python"
    }
  },
  "cells": [
    {
      "cell_type": "markdown",
      "source": [
        "First of all giving permission to google colab so that it can access the files "
      ],
      "metadata": {
        "id": "YCSVzDkCXaC3"
      }
    },
    {
      "cell_type": "code",
      "source": [
        "from google.colab import drive\n",
        "drive.mount('/content/drive')\n",
        "%cd /content/drive/MyDrive"
      ],
      "metadata": {
        "id": "QAF3e66QyJhR",
        "colab": {
          "base_uri": "https://localhost:8080/"
        },
        "outputId": "e09899f0-2669-420b-ec37-27e9ac389f78"
      },
      "execution_count": 1,
      "outputs": [
        {
          "output_type": "stream",
          "name": "stdout",
          "text": [
            "Mounted at /content/drive\n",
            "/content/drive/MyDrive\n"
          ]
        }
      ]
    },
    {
      "cell_type": "code",
      "source": [
        "import csv"
      ],
      "metadata": {
        "id": "Xd5eKVLcFoiL"
      },
      "execution_count": 2,
      "outputs": []
    },
    {
      "cell_type": "markdown",
      "source": [
        "Reading the data\n"
      ],
      "metadata": {
        "id": "KCIIPOEwQhYU"
      }
    },
    {
      "cell_type": "code",
      "source": [
        "#Dividing the data in test and training data but first getting total number of rows, then only adding 90% of it to training data.\n",
        "data=[]\n",
        "number_of_rows=0\n",
        "with open('A_Z Handwritten Data.csv', newline='') as csvfile:\n",
        "    reader = csv.reader(csvfile)\n",
        "    for row in reader:\n",
        "      number_of_rows+=1\n",
        "      data.append(list(row))"
      ],
      "metadata": {
        "id": "0hlu1l2NFFWs"
      },
      "execution_count": 3,
      "outputs": []
    },
    {
      "cell_type": "markdown",
      "source": [
        "Segregating the data"
      ],
      "metadata": {
        "id": "WbOUs3sXck_5"
      }
    },
    {
      "cell_type": "code",
      "source": [
        "# segregating the read data\n",
        "# train_data=[]\n",
        "# test_data=[]\n",
        "# counter=0\n",
        "# for i in data:\n",
        "#   counter+=1\n",
        "#   if counter<=(0.9*number_of_rows):\n",
        "#     train_data.append(i)\n",
        "#   else: \n",
        "#     test_data.append(i)\n",
        "\n",
        "#THIS IS COMMENTED OUT FOR THE REASON EXPLAINED IN BELOW COMMENTS"
      ],
      "metadata": {
        "id": "w2eY7fMqSMLh"
      },
      "execution_count": 4,
      "outputs": []
    },
    {
      "cell_type": "code",
      "source": [
        "# #Now the next step is to calculate p(y=k) where k belongs to [0,25]\n",
        "# dict1={}\n",
        "# counter_list=[]  \n",
        "# #will store the first column of each row and then we will use counter to count number of times a particular one appears and then divide by total number to get probability by favourable/total\n",
        "\n",
        "# for i in train_data:\n",
        "#   counter_list.append(i[0])\n",
        "\n",
        "# #Now our next step is to assign the number and the probability of each as key value pair in dictionary, we are using dictionary because it uses hash mapping ang take less time to fetch data\n",
        "# counter_set=set(counter_list)   #just to remove the duplicates and see all the labels that have been covered in the training data\n",
        "# print(counter_set)\n",
        "# #OUTPUT=['0', '1', '10', '11', '12', '13', '14', '15', '16', '17', '18', '19', '2', '20', '21', '3', '4', '5', '6', '7', '8', '9']\n",
        "# #so we can see if we use training data then not all the labels between 0 to 25 are covered. So for calculating P(Y=k) we need to first shuffle the data and then segregate it and that's why above part was commented out"
      ],
      "metadata": {
        "id": "SnvsfEJDRO-2"
      },
      "execution_count": 5,
      "outputs": []
    },
    {
      "cell_type": "code",
      "source": [
        "import random\n",
        "random.shuffle(data)"
      ],
      "metadata": {
        "id": "xlJjCa66be7K"
      },
      "execution_count": 6,
      "outputs": []
    },
    {
      "cell_type": "code",
      "source": [
        "#segregating the read data\n",
        "train_data=[]\n",
        "test_data=[]\n",
        "counter=0\n",
        "for i in data:\n",
        "  counter+=1\n",
        "  if counter<=(0.9*number_of_rows):\n",
        "    train_data.append(i)\n",
        "  else: \n",
        "    test_data.append(i)"
      ],
      "metadata": {
        "id": "S7y8gwYrbkcq"
      },
      "execution_count": 7,
      "outputs": []
    },
    {
      "cell_type": "markdown",
      "source": [
        "Calculation P(Y=k)"
      ],
      "metadata": {
        "id": "R1_ZF7TOcopL"
      }
    },
    {
      "cell_type": "code",
      "source": [
        "#Now the next step is to calculate p(y=k) where k belongs to [0,25]\n",
        "dict1={}\n",
        "counter_list=[]  \n",
        "#will store the first column of each row and then we will use counter to count number of times a particular one appears and then divide by total number to get probability by favourable/total\n",
        "\n",
        "for i in train_data:\n",
        "  counter_list.append(i[0])\n",
        "\n",
        "#Now our next step is to assign the number and the probability of each as key value pair in dictionary, we are using dictionary because it uses hash mapping ang take less time to fetch data\n",
        "counter_set=set(counter_list)   #just to remove the duplicates and see all the labels that have been covered in the training data. These will help in adding keys to the dictionary"
      ],
      "metadata": {
        "id": "C7pxjodkbsou"
      },
      "execution_count": 8,
      "outputs": []
    },
    {
      "cell_type": "code",
      "source": [
        "#Calculating P(y=k) and adding to dictionary\n",
        "for i in counter_set:\n",
        "  probability=counter_list.count(i)/len(counter_list)\n",
        "  dict1[i]=round(probability,6)"
      ],
      "metadata": {
        "id": "iLtfSPcKcRtf"
      },
      "execution_count": 9,
      "outputs": []
    },
    {
      "cell_type": "code",
      "source": [
        "print(dict1)"
      ],
      "metadata": {
        "colab": {
          "base_uri": "https://localhost:8080/"
        },
        "id": "3xLWO2UQdEIX",
        "outputId": "4de8e0d5-d7fb-4de9-d8ba-b819ff5abc31"
      },
      "execution_count": 10,
      "outputs": [
        {
          "output_type": "stream",
          "name": "stdout",
          "text": [
            "{'19': 0.060321, '15': 0.052246, '25': 0.016315, '12': 0.033147, '8': 0.002936, '7': 0.019451, '23': 0.016811, '18': 0.129807, '14': 0.155096, '24': 0.029114, '2': 0.062923, '9': 0.022723, '1': 0.023219, '17': 0.030957, '5': 0.0031, '21': 0.011196, '13': 0.050954, '11': 0.031071, '6': 0.015432, '3': 0.027228, '0': 0.037422, '4': 0.030698, '20': 0.078042, '10': 0.01511, '16': 0.015611, '22': 0.029072}\n"
          ]
        }
      ]
    },
    {
      "cell_type": "markdown",
      "source": [
        "Addressing the problems of creation of bins, initially taking it be bin size of 8. "
      ],
      "metadata": {
        "id": "DJXXSMulSzEI"
      }
    },
    {
      "cell_type": "code",
      "source": [
        "bin_dict={}  #again using dictionary for associating "
      ],
      "metadata": {
        "id": "CKvIrywaTK7x"
      },
      "execution_count": 11,
      "outputs": []
    },
    {
      "cell_type": "code",
      "source": [
        "bin_size=8"
      ],
      "metadata": {
        "id": "Qexw_MYjSshB"
      },
      "execution_count": 12,
      "outputs": []
    },
    {
      "cell_type": "code",
      "source": [
        "key=0\n",
        "for i in range(0,256):\n",
        "  if 32*key<=i and i<32*(key+1):\n",
        "    bin_dict[i]=key\n",
        "  else:\n",
        "    bin_dict[i]=key+1 #because otherwise numbers such as 32,64 where if statements are not satisfied would never be added to dictionary.\n",
        "    key+=1\n",
        "#so we are creating a bin size of 8 i.e. all the pixels which were taking values between 0 to 255 will now be scaled down to take values between 0 to 7\n",
        "#so that means the scaling will take 32 numbers at a time to divide 256 over 8 parts, so numbers in range 0 to 31 will come to 0 then between 32 to 63 to 1 and so on... "
      ],
      "metadata": {
        "id": "p7aOXGPJTRpQ"
      },
      "execution_count": 13,
      "outputs": []
    },
    {
      "cell_type": "code",
      "source": [
        "print(bin_dict)"
      ],
      "metadata": {
        "colab": {
          "base_uri": "https://localhost:8080/"
        },
        "id": "J7Wr5yv9UfTO",
        "outputId": "9534b677-f700-451a-c5b8-fe9154018f94"
      },
      "execution_count": 14,
      "outputs": [
        {
          "output_type": "stream",
          "name": "stdout",
          "text": [
            "{0: 0, 1: 0, 2: 0, 3: 0, 4: 0, 5: 0, 6: 0, 7: 0, 8: 0, 9: 0, 10: 0, 11: 0, 12: 0, 13: 0, 14: 0, 15: 0, 16: 0, 17: 0, 18: 0, 19: 0, 20: 0, 21: 0, 22: 0, 23: 0, 24: 0, 25: 0, 26: 0, 27: 0, 28: 0, 29: 0, 30: 0, 31: 0, 32: 1, 33: 1, 34: 1, 35: 1, 36: 1, 37: 1, 38: 1, 39: 1, 40: 1, 41: 1, 42: 1, 43: 1, 44: 1, 45: 1, 46: 1, 47: 1, 48: 1, 49: 1, 50: 1, 51: 1, 52: 1, 53: 1, 54: 1, 55: 1, 56: 1, 57: 1, 58: 1, 59: 1, 60: 1, 61: 1, 62: 1, 63: 1, 64: 2, 65: 2, 66: 2, 67: 2, 68: 2, 69: 2, 70: 2, 71: 2, 72: 2, 73: 2, 74: 2, 75: 2, 76: 2, 77: 2, 78: 2, 79: 2, 80: 2, 81: 2, 82: 2, 83: 2, 84: 2, 85: 2, 86: 2, 87: 2, 88: 2, 89: 2, 90: 2, 91: 2, 92: 2, 93: 2, 94: 2, 95: 2, 96: 3, 97: 3, 98: 3, 99: 3, 100: 3, 101: 3, 102: 3, 103: 3, 104: 3, 105: 3, 106: 3, 107: 3, 108: 3, 109: 3, 110: 3, 111: 3, 112: 3, 113: 3, 114: 3, 115: 3, 116: 3, 117: 3, 118: 3, 119: 3, 120: 3, 121: 3, 122: 3, 123: 3, 124: 3, 125: 3, 126: 3, 127: 3, 128: 4, 129: 4, 130: 4, 131: 4, 132: 4, 133: 4, 134: 4, 135: 4, 136: 4, 137: 4, 138: 4, 139: 4, 140: 4, 141: 4, 142: 4, 143: 4, 144: 4, 145: 4, 146: 4, 147: 4, 148: 4, 149: 4, 150: 4, 151: 4, 152: 4, 153: 4, 154: 4, 155: 4, 156: 4, 157: 4, 158: 4, 159: 4, 160: 5, 161: 5, 162: 5, 163: 5, 164: 5, 165: 5, 166: 5, 167: 5, 168: 5, 169: 5, 170: 5, 171: 5, 172: 5, 173: 5, 174: 5, 175: 5, 176: 5, 177: 5, 178: 5, 179: 5, 180: 5, 181: 5, 182: 5, 183: 5, 184: 5, 185: 5, 186: 5, 187: 5, 188: 5, 189: 5, 190: 5, 191: 5, 192: 6, 193: 6, 194: 6, 195: 6, 196: 6, 197: 6, 198: 6, 199: 6, 200: 6, 201: 6, 202: 6, 203: 6, 204: 6, 205: 6, 206: 6, 207: 6, 208: 6, 209: 6, 210: 6, 211: 6, 212: 6, 213: 6, 214: 6, 215: 6, 216: 6, 217: 6, 218: 6, 219: 6, 220: 6, 221: 6, 222: 6, 223: 6, 224: 7, 225: 7, 226: 7, 227: 7, 228: 7, 229: 7, 230: 7, 231: 7, 232: 7, 233: 7, 234: 7, 235: 7, 236: 7, 237: 7, 238: 7, 239: 7, 240: 7, 241: 7, 242: 7, 243: 7, 244: 7, 245: 7, 246: 7, 247: 7, 248: 7, 249: 7, 250: 7, 251: 7, 252: 7, 253: 7, 254: 7, 255: 7}\n"
          ]
        }
      ]
    },
    {
      "cell_type": "markdown",
      "source": [
        "Now once we have done this we need to change all the data in our training set according to our bin size."
      ],
      "metadata": {
        "id": "4YzqbptGXCsX"
      }
    },
    {
      "cell_type": "code",
      "source": [
        "#so in the train_data list each element is a list which has 785 entries where the first entry is the label and remaining 784 as pixels and we can verify that\n",
        "print(len(train_data[1]))"
      ],
      "metadata": {
        "colab": {
          "base_uri": "https://localhost:8080/"
        },
        "id": "UR_imyXZXMVm",
        "outputId": "40bb31f0-acd8-4dff-83e9-c27cd24b6e65"
      },
      "execution_count": 15,
      "outputs": [
        {
          "output_type": "stream",
          "name": "stdout",
          "text": [
            "785\n"
          ]
        }
      ]
    },
    {
      "cell_type": "code",
      "source": [
        "#so to convert all 784 pixels according to our bin size, we will take all data by iterating through them and replace them with their corresponding value in the bin dictionary\n",
        "\n",
        "for i in train_data:\n",
        "  for j in range(1,785): #starting from index 1 as index 0 is label and we only need to change the pixel data\n",
        "    i[j]=bin_dict[int(i[j])]\n"
      ],
      "metadata": {
        "id": "uRYA77Y2YDjS"
      },
      "execution_count": 16,
      "outputs": []
    },
    {
      "cell_type": "markdown",
      "source": [
        "Now we need to find P(Xi=Xit|Y=k) for all data points i.e. for all 784 pixels over all the data."
      ],
      "metadata": {
        "id": "H6QL4BEDVTuw"
      }
    },
    {
      "cell_type": "code",
      "source": [
        "Xi_dict={}  \n",
        "#this dictionary would store the above values and the keys would be a tuple containing the values of Xi and k and i which is the label of pixel i.e. out of 0 to 784, so in this dictionary probability would be associated as key=(i,Xit,k) and value=P(Xi=Xit|Y=k)"
      ],
      "metadata": {
        "id": "npUKvbeOWDuQ"
      },
      "execution_count": 17,
      "outputs": []
    },
    {
      "cell_type": "markdown",
      "source": [
        "In this procedure for calculating the probability for each and every data point so it is 784 pixel points for almost 25000 rows, and each of this data point will be counted multiple times just to check how many times a particular value of a particular pixel point occurs to calculate probability, and infact searching for the value itself in the given list. So to reduce the iteration time we are converting the training data into a dictionary rather than a list. \n",
        "\n",
        "So how is this dictionary made, so dictionary has 26 keys which is from 0 to 25, which are labels that are given to each row. Now each label appears multiple times in the given data, and dictionary doesn't allow duplicates. So how will we store multiple data for the same label?\n",
        "\n",
        "Well for dealing with that we have a clever trick, we will make use of nested lists. Which value of each key is a list and this list contains elements which are also list. Now what is the data stored in this list so actually every time a label repeats in the training data it has 784 pixels associated with it. So the list inside the list contains the data of this 784 pixels and there are many lists inside this main lists as many times the label is repeated to store the data every time the label is repeated.\n",
        "\n",
        "So dictionary reduces this time because dictionary makes use of hash mapping so searching for a particular element in dictionary takes constant time which is much less than that of list."
      ],
      "metadata": {
        "id": "pG9IBQpeErTa"
      }
    },
    {
      "cell_type": "code",
      "source": [
        "train_data_dict={}\n",
        "for i in range(0,26):\n",
        "  list2=[]\n",
        "  for j in train_data:\n",
        "    if int(j[0])==i:\n",
        "      list1=[]\n",
        "      for k in range(1,785):\n",
        "        list1.append(j[k])\n",
        "      list2.append(list1)\n",
        "    else:\n",
        "      continue\n",
        "  train_data_dict[i]=list2"
      ],
      "metadata": {
        "id": "HAmauF38ktiX"
      },
      "execution_count": 18,
      "outputs": []
    },
    {
      "cell_type": "code",
      "source": [
        "print(len(train_data_dict[0][0]))"
      ],
      "metadata": {
        "colab": {
          "base_uri": "https://localhost:8080/"
        },
        "id": "iO3rP1N489CP",
        "outputId": "45e91d52-6680-4422-cace-52167ec4bf95"
      },
      "execution_count": 19,
      "outputs": [
        {
          "output_type": "stream",
          "name": "stdout",
          "text": [
            "784\n"
          ]
        }
      ]
    },
    {
      "cell_type": "code",
      "source": [
        "\n",
        "#we also need to create a special counter function\n",
        "def counter(i,xi,k):    #i=>Which pixel I am talking about, Xi=>what is the value of the pixel, and for which Y=k\n",
        "  count=0\n",
        "  for j in train_data_dict[k]:\n",
        "    if int(j[i])==xi:\n",
        "      count+=1\n",
        "    else:\n",
        "      continue\n",
        "\n",
        "  return count\n"
      ],
      "metadata": {
        "id": "fyaOOenkYSsm"
      },
      "execution_count": 20,
      "outputs": []
    },
    {
      "cell_type": "code",
      "source": [
        "print(counter(0,0,0))"
      ],
      "metadata": {
        "colab": {
          "base_uri": "https://localhost:8080/"
        },
        "id": "gsAZdXytSbfk",
        "outputId": "c1f8bddc-0bcd-46c7-e02f-a77bfd0edb3e"
      },
      "execution_count": 21,
      "outputs": [
        {
          "output_type": "stream",
          "name": "stdout",
          "text": [
            "12544\n"
          ]
        }
      ]
    },
    {
      "cell_type": "code",
      "source": [
        "#And also a probability function to calculate to calculate P(xi=Xit|Y=k)\n",
        "\n",
        "def probability(i,xi,k):     #i=>Which pixel I am talking about, Xi=>what is the value of the pixel, and for which Y=k\n",
        "\n",
        "  if xi>7 or xi<0: \n",
        "      print(\"Enter a valid pixel value\")\n",
        "      return \n",
        "  if k>25 or k<0:\n",
        "      print(\"Enter a valid label\")\n",
        "      return\n",
        "    \n",
        "  else:   #Calculating using the formula P(Xit=Xi|Y=k)=P(Xit=Xi and Y=k)/P(Y=k)\n",
        "    prob=float(counter(i,xi,k))/len(train_data)   #calculating P(Y=k and Xit=Xi)\n",
        "    prob1=float(prob)/dict1[str(k)]\n",
        "    return round(prob1,4)"
      ],
      "metadata": {
        "id": "yZMeEINYPd8_"
      },
      "execution_count": 22,
      "outputs": []
    },
    {
      "cell_type": "code",
      "source": [
        "print(probability(0,0,0))"
      ],
      "metadata": {
        "colab": {
          "base_uri": "https://localhost:8080/"
        },
        "id": "zv7MIZfS9_Bi",
        "outputId": "bcea00ff-95eb-42a5-f63b-4d0e03a7844b"
      },
      "execution_count": 23,
      "outputs": [
        {
          "output_type": "stream",
          "name": "stdout",
          "text": [
            "1.0\n"
          ]
        }
      ]
    },
    {
      "cell_type": "markdown",
      "source": [
        "Now our first instinct is to calculate the probability of all possible value of each data point such as \n",
        "\n",
        "for k in range(0,26):\n",
        "  for j in train_data_dict[k]:\n",
        "    for i in range(0,784):\n",
        "      Xi_dict[(j[i],k)]=probability(i,j[i],k)\n",
        "\n",
        "So what is our idea here is that we go to each value of each pixel and calculate how many times the same value for the same pixel corresponding to the same label. And we do it for each of the 26 label for each of the 784 pixels and for each row in the data (which are about 25000), so overall 26 x 784 x 25000, one might think this manageable but we are missing out on a point, the probability function calls couter functions which again iterates through entire data. \n",
        "So it is actually 26x784x25000x25000 iterations which can't be completed in given possible time constraints.\n",
        "\n",
        "So how to reduce this?"
      ],
      "metadata": {
        "id": "uMwsJ69fHKrK"
      }
    },
    {
      "cell_type": "code",
      "source": [
        "for k in range(0,26):\n",
        "    for i in range(0,784):\n",
        "      for j in range(0,bin_size):\n",
        "        Xi_dict[(i,j,k)]=probability(i,j,k)"
      ],
      "metadata": {
        "id": "merfyzE4W1mu"
      },
      "execution_count": 24,
      "outputs": []
    },
    {
      "cell_type": "markdown",
      "source": [
        "Above is the solution we came up with, so we know that in the probability function the entire data will be scanned given the label, value of pixel and pixel number. SO we don't need to iterate through the entire data again in our loops, instead what we do is something much more clever.\n",
        "\n",
        "We know each pixel can take values between 0 to bin_size-1. So instead of iterating through the whole data manually, going to each pixel point then seeing which value it takes then calculating the probability for that value. What we do is that we calculate the porbability of each possible value of each pixel point. \n",
        "\n",
        "So instead of getting the value by iterating for whole data, we are giving it all possible values to each and every data point. \n",
        "Which reduce number of iterations to 26 x 784 x 8 x 25000.\n",
        "\n",
        "And we are sure that all pixel points will be covered in the data by the first two loops. Because fofr given label and pixel number our counter function will iterate through all rows for counting the corresponding. \n",
        "\n",
        "So just manually giving the value decreases number of iterations significantly."
      ],
      "metadata": {
        "id": "KuhBSm9aJXZe"
      }
    },
    {
      "cell_type": "code",
      "source": [
        "print(Xi_dict[(582,2,1)])"
      ],
      "metadata": {
        "colab": {
          "base_uri": "https://localhost:8080/"
        },
        "id": "dbWJaOPNd5Cc",
        "outputId": "91f7a84d-1de4-4806-882c-3c72843c0a3a"
      },
      "execution_count": 25,
      "outputs": [
        {
          "output_type": "stream",
          "name": "stdout",
          "text": [
            "0.0243\n"
          ]
        }
      ]
    }
  ]
}